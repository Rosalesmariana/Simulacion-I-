{
  "nbformat": 4,
  "nbformat_minor": 0,
  "metadata": {
    "colab": {
      "provenance": [],
      "authorship_tag": "ABX9TyOcUUY7ulxsptwZ+8rE04Uh",
      "include_colab_link": true
    },
    "kernelspec": {
      "name": "python3",
      "display_name": "Python 3"
    },
    "language_info": {
      "name": "python"
    }
  },
  "cells": [
    {
      "cell_type": "markdown",
      "metadata": {
        "id": "view-in-github",
        "colab_type": "text"
      },
      "source": [
        "<a href=\"https://colab.research.google.com/github/Rosalesmariana/Simulacion-I-/blob/main/Prueba_ajuste.ipynb\" target=\"_parent\"><img src=\"https://colab.research.google.com/assets/colab-badge.svg\" alt=\"Open In Colab\"/></a>"
      ]
    },
    {
      "cell_type": "code",
      "source": [
        "from tabulate import tabulate\n",
        "from scipy.stats import chi2\n",
        "\n",
        "x_n = 17\n",
        "m = 256\n",
        "a = 1\n",
        "c = 121\n",
        "\n",
        "# Lista para almacenar los valores de x_n\n",
        "lista_de_x_n = [x_n]\n",
        "\n",
        "# Encabezados de la tabla\n",
        "encabezados = [\"Clases\", \"Frecuencia Observada\", \"Frecuencia Esperada\"]\n",
        "\n",
        "# Almacenar resultados\n",
        "resultados = []\n",
        "\n",
        "iteration = 0\n",
        "\n",
        "# Función para encontrar el valor máximo de x_n\n",
        "def encontrar_maximo(x_n, m, a, c, iteraciones=259):\n",
        "    max_x_n = x_n\n",
        "    for _ in range(iteraciones):\n",
        "        b = a * x_n + c\n",
        "        x_n = b % m\n",
        "        if x_n > max_x_n:\n",
        "            max_x_n = x_n\n",
        "    return max_x_n\n",
        "\n",
        "max_x_n = encontrar_maximo(x_n, m, a, c)\n",
        "\n",
        "# Definir las clasesd\n",
        "clases = 5\n",
        "interval_size = max_x_n // clases\n",
        "intervalos = [(i * interval_size + 1, (i + 1) * interval_size) for i in range(clases)]\n",
        "\n",
        "#Congruencial\n",
        "x_n = 17\n",
        "for _ in range(260):\n",
        "    lista_de_x_n.append(x_n)\n",
        "    b = a * x_n + c\n",
        "    x_n = b % m\n",
        "\n",
        "# Frecuencia observada\n",
        "frecuencias = [0] * clases\n",
        "\n",
        "for x_n in lista_de_x_n:\n",
        "    for i, (intervalo_inicio, intervalo_fin) in enumerate(intervalos):\n",
        "        if intervalo_inicio <= x_n <= intervalo_fin:\n",
        "            frecuencias[i] += 1\n",
        "            break\n",
        "\n",
        "# Frecuencia esperada\n",
        "n = len(lista_de_x_n) // clases\n",
        "frecuencia_esperada = [n] * clases\n",
        "\n",
        "# Resultados\n",
        "for (intervalo_inicio, intervalo_fin), frec_obs, frec_exp in zip(intervalos, frecuencias, frecuencia_esperada):\n",
        "    intervalo = f\"{intervalo_inicio}-{intervalo_fin}\"\n",
        "    resultados.append([intervalo, frec_obs, frec_exp])\n",
        "\n",
        "# Chi-cuadrado\n",
        "chi_cuadrado = sum((observed - expected) ** 2 / expected for observed, expected in zip(frecuencias, frecuencia_esperada))\n",
        "resultados.append([\"Chi-cuadrado\", chi_cuadrado, \"\"])\n",
        "\n",
        "# Valor crítico con significancia de 0.05\n",
        "grados_libertad = clases - 1\n",
        "valor_critico = chi2.ppf(0.95, grados_libertad)\n",
        "\n",
        "# Comparación con valor crítico\n",
        "if chi_cuadrado < valor_critico:\n",
        "    conclusion = \"No se rechaza H0\"\n",
        "else:\n",
        "    conclusion = \"Se rechaza H0\"\n",
        "\n",
        "resultados.append([\"Valor crítico\", valor_critico, \"\"])\n",
        "resultados.append([\"Conclusion\", conclusion, \"\"])\n",
        "\n",
        "# Tabla\n",
        "print(tabulate(resultados, headers=encabezados, tablefmt=\"grid\"))"
      ],
      "metadata": {
        "colab": {
          "base_uri": "https://localhost:8080/"
        },
        "id": "CrRaUf6MybqF",
        "outputId": "d0a932b9-5c9f-41fe-ba23-b2517122d8b6"
      },
      "execution_count": 1,
      "outputs": [
        {
          "output_type": "stream",
          "name": "stdout",
          "text": [
            "+---------------+------------------------+-----------------------+\n",
            "| Clases        | Frecuencia Observada   | Frecuencia Esperada   |\n",
            "+===============+========================+=======================+\n",
            "| 1-51          | 54                     | 52                    |\n",
            "+---------------+------------------------+-----------------------+\n",
            "| 52-102        | 51                     | 52                    |\n",
            "+---------------+------------------------+-----------------------+\n",
            "| 103-153       | 53                     | 52                    |\n",
            "+---------------+------------------------+-----------------------+\n",
            "| 154-204       | 51                     | 52                    |\n",
            "+---------------+------------------------+-----------------------+\n",
            "| 205-255       | 51                     | 52                    |\n",
            "+---------------+------------------------+-----------------------+\n",
            "| Chi-cuadrado  | 0.15384615384615385    |                       |\n",
            "+---------------+------------------------+-----------------------+\n",
            "| Valor crítico | 9.487729036781154      |                       |\n",
            "+---------------+------------------------+-----------------------+\n",
            "| Conclusion    | No se rechaza H0       |                       |\n",
            "+---------------+------------------------+-----------------------+\n"
          ]
        }
      ]
    }
  ]
}