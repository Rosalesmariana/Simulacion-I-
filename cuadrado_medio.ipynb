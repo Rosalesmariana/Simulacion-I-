{
  "nbformat": 4,
  "nbformat_minor": 0,
  "metadata": {
    "colab": {
      "provenance": [],
      "authorship_tag": "ABX9TyPcjdkfx44hZc3w26NRmGSp",
      "include_colab_link": true
    },
    "kernelspec": {
      "name": "python3",
      "display_name": "Python 3"
    },
    "language_info": {
      "name": "python"
    }
  },
  "cells": [
    {
      "cell_type": "markdown",
      "metadata": {
        "id": "view-in-github",
        "colab_type": "text"
      },
      "source": [
        "<a href=\"https://colab.research.google.com/github/Rosalesmariana/Simulacion-I-/blob/main/cuadrado_medio.ipynb\" target=\"_parent\"><img src=\"https://colab.research.google.com/assets/colab-badge.svg\" alt=\"Open In Colab\"/></a>"
      ]
    },
    {
      "cell_type": "code",
      "execution_count": 12,
      "metadata": {
        "colab": {
          "base_uri": "https://localhost:8080/"
        },
        "id": "_zoiDTBpKygP",
        "outputId": "a1e4f12b-56f1-400f-eb9a-70972ebed2ba"
      },
      "outputs": [
        {
          "output_type": "stream",
          "name": "stdout",
          "text": [
            "5113 1427 363 3176\n"
          ]
        }
      ],
      "source": [
        "sem=2124;\n",
        "semilla_cuadrado=sem**2\n",
        "result=str(semilla_cuadrado).zfill(8)\n",
        "x_1=int(result[2:6])\n",
        "\n",
        "#Repetir\n",
        "semilla_cuadrado=x_1**2\n",
        "result=str(semilla_cuadrado).zfill(8)\n",
        "x_2=int(result[2:6])\n",
        "#\n",
        "semilla_cuadrado=x_2**2\n",
        "result=str(semilla_cuadrado).zfill(8)\n",
        "x_3=int(result[2:6])\n",
        "#\n",
        "semilla_cuadrado=x_3**2\n",
        "result=str(semilla_cuadrado).zfill(6)\n",
        "x_4=int(result[1:5])\n",
        "#Imprimir\n",
        "print(x_1, x_2,x_3,x_4)"
      ]
    }
  ]
}