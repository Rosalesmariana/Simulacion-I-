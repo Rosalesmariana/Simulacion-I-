{
  "nbformat": 4,
  "nbformat_minor": 0,
  "metadata": {
    "colab": {
      "provenance": [],
      "authorship_tag": "ABX9TyOmdNLh6t0fdlN3efyi5sJS",
      "include_colab_link": true
    },
    "kernelspec": {
      "name": "python3",
      "display_name": "Python 3"
    },
    "language_info": {
      "name": "python"
    }
  },
  "cells": [
    {
      "cell_type": "markdown",
      "metadata": {
        "id": "view-in-github",
        "colab_type": "text"
      },
      "source": [
        "<a href=\"https://colab.research.google.com/github/Rosalesmariana/Simulacion-I-/blob/main/Prueba_corridas_Explicado.ipynb\" target=\"_parent\"><img src=\"https://colab.research.google.com/assets/colab-badge.svg\" alt=\"Open In Colab\"/></a>"
      ]
    },
    {
      "cell_type": "code",
      "source": [
        "from scipy.stats import norm\n",
        "\n",
        "#Para realizar una prueba de corridas para los datos proporcionados\n",
        "datos = [0.78, 0.98, 0.24, 0.73, 0.43, 0.16, 0.78, 0.47, 0.18, 0.55,\n",
        "        0.04, 0.29, 0.68, 0.77, 0.16, 0.03, 0.79, 0.22, 0.37, 0.80,\n",
        "        0.96, 0.26, 0.91, 0.55, 0.75, 0.55, 0.64, 0.39, 0.53, 0.45,\n",
        "        0.61, 0.14, 0.38, 0.12, 0.40, 0.74, 0.78, 0.98, 0.27, 0.60,\n",
        "        0.43, 0.67, 0.62, 0.32, 0.53, 0.54, 0.24, 0.29, 0.18, 0.08,\n",
        "        0.82, 0.94, 0.19, 0.98, 0.41, 1.00, 0.74, 0.92, 0.14, 0.43,\n",
        "        0.83, 0.88, 0.18, 0.21, 0.50, 0.13, 0.43, 0.69, 0.08, 0.12,\n",
        "        0.22, 0.50, 0.16, 0.11, 0.18, 0.89, 0.80, 0.42, 0.29, 0.87,\n",
        "        0.83, 0.79, 0.65, 0.28, 0.78, 0.49, 0.36, 0.86, 0.87, 0.64,\n",
        "        0.51, 0.07, 0.18, 0.94, 0.50, 0.22, 0.66, 0.91, 0.48, 0.24]\n",
        "\"\"\"\n",
        "Vamos a definir una funcion que devuelva una lista de valores binarios,\n",
        "si el elemento siguente es mayor que el actual, se asigna un 1;\n",
        " de lo contrario, se asigna un 0\n",
        "\"\"\"\n",
        "def discretize_data(datos):\n",
        "    lista_binarios = []\n",
        "    for i in range(len(datos) - 1):\n",
        "        if datos[i + 1] > datos[i]:\n",
        "            lista_binarios.append(1)\n",
        "        else:\n",
        "            lista_binarios.append(0)\n",
        "    return lista_binarios\n",
        "\"\"\"\n",
        " Definimos otra funcion que contabilizara el total de corridas una vez pasados a una lista de binarios\n",
        "\"\"\"\n",
        "def corridas(lista_binarios): #Tomara la lista formada ahora por 1´s y 0¨s\n",
        "\n",
        "    corridas_obs = 1\n",
        "    for i in range(1, len(lista_binarios)):\n",
        "        if lista_binarios[i] != lista_binarios[i - 1]:# Si hay un cambio en los valores binarios entre dos posiciones, representa el comienzo de una nueva corrida\n",
        "            corridas_obs += 1\n",
        "    return corridas_obs\n",
        "\"\"\"\n",
        "Con esta funcion mandamos a llamar a las funciones anteriores para realizar la prueba de corridas,\n",
        "ya que utilizara la lista de valores binarios, el total de corridas y el total de datos asi como otros parametros\n",
        "\n",
        "\"\"\"\n",
        "\n",
        "def prueba_corridas(datos, alpha=0.05): # Se establece el nivel de significancia como 0.05\n",
        "    lista_binarios = discretize_data(datos)\n",
        "    n = len(lista_binarios)\n",
        "    corridas_obs = corridas(lista_binarios)\n",
        "\n",
        "    valor_esperado = (2 * n - 1) / 3 #Calculamos la media de las corridas observadas\n",
        "    desv_est = ((16 * n - 29) / 90) ** 0.5 # Calculamos tambien la desviacion estandar de las corridas observadas\n",
        "\n",
        "    # Calculamos el estadístico de prueba Z\n",
        "    z = (corridas_obs - valor_esperado) / desv_est\n",
        "\n",
        "    # Determinamos los valores críticos de Z para el nivel de significancia dado\n",
        "    z_alpha_2 = norm.ppf(1 - alpha / 2)\n",
        "\n",
        "    # Comparamos el valor Z obtenido con los valores críticos, si el valor de Z calculado vive en el intervalo para asi aceptar o rechazar H0\n",
        "    if -z_alpha_2 <= z <= z_alpha_2:\n",
        "        conclusion = \"Se acepta H0\"\n",
        "    else:\n",
        "        conclusion = \"Se rechaza H0\"\n",
        "\n",
        "    return z, conclusion\n",
        "#Mostramos el valor de Z y la conclusión final\n",
        "z, conclusion = prueba_corridas(datos)\n",
        "print(\"Valor Z obtenido:\", z)\n",
        "print(\"Conclusión: \",conclusion)\n"
      ],
      "metadata": {
        "colab": {
          "base_uri": "https://localhost:8080/"
        },
        "id": "aLBc2K51LB1h",
        "outputId": "4eb3efbb-d023-4d0d-8b04-89026a1cd3ce"
      },
      "execution_count": 22,
      "outputs": [
        {
          "output_type": "stream",
          "name": "stdout",
          "text": [
            "Valor Z obtenido: -0.4009634698823139\n",
            "Conclusión:  Se acepta H0\n"
          ]
        }
      ]
    }
  ]
}