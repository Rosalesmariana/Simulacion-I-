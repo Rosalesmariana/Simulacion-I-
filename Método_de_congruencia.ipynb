{
  "nbformat": 4,
  "nbformat_minor": 0,
  "metadata": {
    "colab": {
      "provenance": [],
      "authorship_tag": "ABX9TyOPS0oETGMb1VosgO5Fe/i4",
      "include_colab_link": true
    },
    "kernelspec": {
      "name": "python3",
      "display_name": "Python 3"
    },
    "language_info": {
      "name": "python"
    }
  },
  "cells": [
    {
      "cell_type": "markdown",
      "metadata": {
        "id": "view-in-github",
        "colab_type": "text"
      },
      "source": [
        "<a href=\"https://colab.research.google.com/github/Rosalesmariana/Simulacion-I-/blob/main/M%C3%A9todo_de_congruencia.ipynb\" target=\"_parent\"><img src=\"https://colab.research.google.com/assets/colab-badge.svg\" alt=\"Open In Colab\"/></a>"
      ]
    },
    {
      "cell_type": "code",
      "execution_count": 8,
      "metadata": {
        "colab": {
          "base_uri": "https://localhost:8080/"
        },
        "id": "XGpGNCasC6L_",
        "outputId": "ed580dce-1bee-4eb3-f286-4f5ec4004306"
      },
      "outputs": [
        {
          "output_type": "stream",
          "name": "stdout",
          "text": [
            "  N    x_n    5x_n+5    5x_n+5 (mod 16)    x_n/16\n",
            "---  -----  --------  -----------------  --------\n",
            "  0      6        35                  3    0.375\n",
            "  1      3        20                  4    0.1875\n",
            "  2      4        25                  9    0.25\n",
            "  3      9        50                  2    0.5625\n",
            "  4      2        15                 15    0.125\n",
            "  5     15        80                  0    0.9375\n",
            "  6      0         5                  5    0\n",
            "  7      5        30                 14    0.3125\n",
            "  8     14        75                 11    0.875\n",
            "  9     11        60                 12    0.6875\n",
            " 10     12        65                  1    0.75\n",
            " 11      1        10                 10    0.0625\n",
            " 12     10        55                  7    0.625\n",
            " 13      7        40                  8    0.4375\n",
            " 14      8        45                 13    0.5\n",
            " 15     13        70                  6    0.8125\n",
            " 16      6        35                  3    0.375\n",
            " 17      3        20                  4    0.1875\n",
            " 18      4        25                  9    0.25\n",
            " 19      9        50                  2    0.5625\n",
            " 20      2        15                 15    0.125\n"
          ]
        }
      ],
      "source": [
        "\n",
        "from tabulate import tabulate\n",
        "\n",
        "x_n=6;\n",
        "m=16;\n",
        "a=5;\n",
        "c=5;\n",
        "\n",
        "# Encabezados de la tabla\n",
        "encabezados= [\"N\",\"x_n\",\"5x_n+5\",\"5x_n+5 (mod 16)\", \"x_n/16\"]\n",
        "\n",
        "# Almacenar resultados\n",
        "resultados = []\n",
        "\n",
        "iteration = 0\n",
        "\n",
        "while True:\n",
        "  b=a*x_n+c;\n",
        "  x_0=b%m;\n",
        "  k=x_n/16;\n",
        "  resultados.append([iteration,x_n,b,x_0,k])\n",
        "\n",
        "# Actualizar x_n, total de iteraciones\n",
        "  x_n=x_0\n",
        "  iteration += 1\n",
        "\n",
        "  if iteration > 20:\n",
        "    break\n",
        "\n",
        "# Tabla de resultados\n",
        "print(tabulate(resultados, headers=encabezados, tablefmt=\"\"))"
      ]
    }
  ]
}