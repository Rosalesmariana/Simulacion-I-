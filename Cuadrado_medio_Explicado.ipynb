{
  "nbformat": 4,
  "nbformat_minor": 0,
  "metadata": {
    "colab": {
      "provenance": [],
      "authorship_tag": "ABX9TyMmVMpAxuNfOkJQweuOtGMg",
      "include_colab_link": true
    },
    "kernelspec": {
      "name": "python3",
      "display_name": "Python 3"
    },
    "language_info": {
      "name": "python"
    }
  },
  "cells": [
    {
      "cell_type": "markdown",
      "metadata": {
        "id": "view-in-github",
        "colab_type": "text"
      },
      "source": [
        "<a href=\"https://colab.research.google.com/github/Rosalesmariana/Simulacion-I-/blob/main/Cuadrado_medio_Explicado.ipynb\" target=\"_parent\"><img src=\"https://colab.research.google.com/assets/colab-badge.svg\" alt=\"Open In Colab\"/></a>"
      ]
    },
    {
      "cell_type": "code",
      "source": [
        "from tabulate import tabulate\n",
        "\n",
        "x_0 = 2124 # Semilla inicial de 4 digitos, x_0\n",
        "\n",
        "# Encabezados de la tabla\n",
        "table_headers = [\"n\",\"x_n\", \"x_n^2\", \"x_n+1\"]\n",
        "\n",
        "# Lista para almacenar las filas de la tabla\n",
        "table_rows = []\n",
        "\n",
        "iteration = 1 #inicializamos las iteraciones\n",
        "\n",
        "while True:\n",
        "    res = x_0 ** 2 #Elevamos al cuadrado nuestro x_0\n",
        "    res_str = str(res).zfill(8) #Rellenamos la cadena con ceros a la izquierda hasta alcanzar una longitud específica\n",
        "    x_1 = int(res_str[2:6]) #Tomamos los 4 digitos de enmedio y sera nuestro x_1\n",
        "    table_rows.append([iteration,x_0, res, x_1]) #Resultados que seran mostrados en la tabla\n",
        "\n",
        "    # Actualizar los valores de x_n+1 y x_n para el siguiente ciclo\n",
        "    x_0 = x_1 #Tomara a nuestro x_1 (x_n+1) como el nuevo x_0 (x_n)\n",
        "\n",
        "    iteration += 1\n",
        "\n",
        "    # Total de iteraciones\n",
        "    if iteration > 10:\n",
        "        break\n",
        "\n",
        "# Tabla de resultados\n",
        "print(tabulate(table_rows, headers=table_headers, tablefmt=\"grid\"))"
      ],
      "metadata": {
        "colab": {
          "base_uri": "https://localhost:8080/"
        },
        "id": "Jpg9xfsDx6iM",
        "outputId": "a30488a3-2efa-44fb-f5c3-95200324d322"
      },
      "execution_count": 8,
      "outputs": [
        {
          "output_type": "stream",
          "name": "stdout",
          "text": [
            "+-----+-------+----------+---------+\n",
            "|   n |   x_n |    x_n^2 |   x_n+1 |\n",
            "+=====+=======+==========+=========+\n",
            "|   1 |  2124 |  4511376 |    5113 |\n",
            "+-----+-------+----------+---------+\n",
            "|   2 |  5113 | 26142769 |    1427 |\n",
            "+-----+-------+----------+---------+\n",
            "|   3 |  1427 |  2036329 |     363 |\n",
            "+-----+-------+----------+---------+\n",
            "|   4 |   363 |   131769 |    1317 |\n",
            "+-----+-------+----------+---------+\n",
            "|   5 |  1317 |  1734489 |    7344 |\n",
            "+-----+-------+----------+---------+\n",
            "|   6 |  7344 | 53934336 |    9343 |\n",
            "+-----+-------+----------+---------+\n",
            "|   7 |  9343 | 87291649 |    2916 |\n",
            "+-----+-------+----------+---------+\n",
            "|   8 |  2916 |  8503056 |    5030 |\n",
            "+-----+-------+----------+---------+\n",
            "|   9 |  5030 | 25300900 |    3009 |\n",
            "+-----+-------+----------+---------+\n",
            "|  10 |  3009 |  9054081 |     540 |\n",
            "+-----+-------+----------+---------+\n"
          ]
        }
      ]
    }
  ]
}