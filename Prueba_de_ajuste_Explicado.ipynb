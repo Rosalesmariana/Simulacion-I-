{
  "nbformat": 4,
  "nbformat_minor": 0,
  "metadata": {
    "colab": {
      "provenance": [],
      "authorship_tag": "ABX9TyOOoCZjmoVtrjJe/z4WyViI",
      "include_colab_link": true
    },
    "kernelspec": {
      "name": "python3",
      "display_name": "Python 3"
    },
    "language_info": {
      "name": "python"
    }
  },
  "cells": [
    {
      "cell_type": "markdown",
      "metadata": {
        "id": "view-in-github",
        "colab_type": "text"
      },
      "source": [
        "<a href=\"https://colab.research.google.com/github/Rosalesmariana/Simulacion-I-/blob/main/Prueba_de_ajuste_Explicado.ipynb\" target=\"_parent\"><img src=\"https://colab.research.google.com/assets/colab-badge.svg\" alt=\"Open In Colab\"/></a>"
      ]
    },
    {
      "cell_type": "code",
      "source": [
        "#Para este codigo se pide utilizar datos aleatorios generados a traves del metodo de congruencia y aplicar la prueba de ajuste\n",
        "\n",
        "from tabulate import tabulate\n",
        "from scipy.stats import chi2 #El estadistico de prueba lo vamos a importar desde esta libreria\n",
        "\n",
        "x_n = 17 #Semilla inicial para el metodo congruencial\n",
        "a = 1  # Las constantes a, c y m\n",
        "c = 121\n",
        "m = 256\n",
        "# Lista para almacenar los valores de x_n que seran generados a traves del metodo de congruencia\n",
        "lista_de_x_n = [x_n]\n",
        "\n",
        "# Encabezados de la tabla\n",
        "encabezados = [\"Clases\", \"Frecuencia Observada\", \"Frecuencia Esperada\"]\n",
        "\n",
        "# Almacenar resultados\n",
        "resultados = []\n",
        "\n",
        "iteration = 0\n",
        "\n",
        "# Función para encontrar el valor máximo de x_n, lo que queremos es saber cual es el numero mas grande y asi poder definir las clases\n",
        "def encontrar_maximo(x_n, m, a, c, iteraciones=259):\n",
        "    max_x_n = x_n\n",
        "    for _ in range(iteraciones):\n",
        "        b = a * x_n + c\n",
        "        x_n = b % m  #Realiza las operaciones del metodo de congruencia y genera los valores para los x_n\n",
        "        if x_n > max_x_n:\n",
        "            max_x_n = x_n\n",
        "    return max_x_n\n",
        "max_x_n = encontrar_maximo(x_n, m, a, c)# Almacena el valor mas grande de todos los x_n\n",
        "\n",
        "\n",
        "# Definir las clasesd\n",
        "clases = 5 #Elegimos trabajar con 5 clases\n",
        "#Para definir el tamaño de los intervalos, tomamos el valor mas grande de los x_n y lo dividimos entre el total de clases\n",
        "interval_size = max_x_n // clases # esto para que las clases tengan el mismo tamaño\n",
        "intervalos = [(i * interval_size + 1, (i + 1) * interval_size) for i in range(clases)]\n",
        "\n",
        "#Congruencial\n",
        "x_n = 17\n",
        "for _ in range(260):\n",
        "    lista_de_x_n.append(x_n) #Enviamos los resultados de los x_n a una lista para un mejor manejo\n",
        "    b = a * x_n + c\n",
        "    x_n = b % m\n",
        "\n",
        "# Frecuencia observada\n",
        "frecuencias = [0] * clases\n",
        "\n",
        "for x_n in lista_de_x_n: # Se toman los valores de la lista para irlos dividiendo en sus clases correspondientes\n",
        "    for i, (intervalo_inicio, intervalo_fin) in enumerate(intervalos):\n",
        "        if intervalo_inicio <= x_n <= intervalo_fin: #Si el x_n se encuentra entre el intervalo correnpondiente\n",
        "            frecuencias[i] += 1 # se contara como parte de esa clase\n",
        "            break\n",
        "\n",
        "# Frecuencia esperada\n",
        "n = len(lista_de_x_n) // clases # Se divide el total de datos almacenados en la lista de x_n entre las clases\n",
        "frecuencia_esperada = [n] * clases #esto para dar la frecuencia esperada las cual debe ser exactamente igual para cada clase\n",
        "\n",
        "# Resultados\n",
        "for (intervalo_inicio, intervalo_fin), frec_obs, frec_exp in zip(intervalos, frecuencias, frecuencia_esperada):\n",
        "    intervalo = f\"{intervalo_inicio}-{intervalo_fin}\"\n",
        "    resultados.append([intervalo, frec_obs, frec_exp])\n",
        "\n",
        "# Chi-cuadrada\n",
        "chi_cuadrado = sum((observed - expected) ** 2 / expected for observed, expected in zip(frecuencias, frecuencia_esperada)) #Realizamos el estadistico de prueba\n",
        "resultados.append([\"Chi-cuadrada\", chi_cuadrado, \"\"])\n",
        "\n",
        "# Valor crítico con significancia de 0.05\n",
        "grados_libertad = clases - 1  # los gl es el total de  k clases - 1\n",
        "valor_critico = chi2.ppf(0.95, grados_libertad) #Pedimos el valor critico con k-1 gl y significancia de 0.05 para comparar mas adelante\n",
        "\n",
        "# Comparación con valor crítico para el rechazo o no rechazo de H0, donde:\n",
        "#H0 significa que la muestra sigue una distribucion uniforme y por el contrario Ha significa que la muestra no sigue una distribucion uniforme\n",
        "\n",
        "if chi_cuadrado < valor_critico: # De acuerdo con lo anterior podemos concluir\n",
        "    conclusion = \"No se rechaza H0, por lo que, la muestra sigue una distribucion uniforme\"\n",
        "else:\n",
        "    conclusion = \"Se rechaza H0, por lo que, la muestra NO sigue una distribucion uniforme\"\n",
        "resultados.append([\"Valor crítico\", valor_critico, \"\"]) # Agregamos los resultados a la tabla\n",
        "resultados.append([\"Conclusion\", conclusion, \"\"])\n",
        "\n",
        "# Tabla de resultados\n",
        "print(tabulate(resultados, headers=encabezados, tablefmt=\"grid\"))"
      ],
      "metadata": {
        "colab": {
          "base_uri": "https://localhost:8080/"
        },
        "id": "CrRaUf6MybqF",
        "outputId": "5408f434-62b6-4f8f-95ae-8b55fa428f1b"
      },
      "execution_count": 3,
      "outputs": [
        {
          "output_type": "stream",
          "name": "stdout",
          "text": [
            "+---------------+--------------------------------------------------------------------------+-----------------------+\n",
            "| Clases        | Frecuencia Observada                                                     | Frecuencia Esperada   |\n",
            "+===============+==========================================================================+=======================+\n",
            "| 1-51          | 54                                                                       | 52                    |\n",
            "+---------------+--------------------------------------------------------------------------+-----------------------+\n",
            "| 52-102        | 51                                                                       | 52                    |\n",
            "+---------------+--------------------------------------------------------------------------+-----------------------+\n",
            "| 103-153       | 53                                                                       | 52                    |\n",
            "+---------------+--------------------------------------------------------------------------+-----------------------+\n",
            "| 154-204       | 51                                                                       | 52                    |\n",
            "+---------------+--------------------------------------------------------------------------+-----------------------+\n",
            "| 205-255       | 51                                                                       | 52                    |\n",
            "+---------------+--------------------------------------------------------------------------+-----------------------+\n",
            "| Chi-cuadrada  | 0.15384615384615385                                                      |                       |\n",
            "+---------------+--------------------------------------------------------------------------+-----------------------+\n",
            "| Valor crítico | 9.487729036781154                                                        |                       |\n",
            "+---------------+--------------------------------------------------------------------------+-----------------------+\n",
            "| Conclusion    | No se rechaza H0, por lo que, la muestra sigue una distribucion uniforme |                       |\n",
            "+---------------+--------------------------------------------------------------------------+-----------------------+\n"
          ]
        }
      ]
    }
  ]
}