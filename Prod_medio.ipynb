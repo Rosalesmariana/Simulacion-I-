{
  "nbformat": 4,
  "nbformat_minor": 0,
  "metadata": {
    "colab": {
      "provenance": [],
      "authorship_tag": "ABX9TyOEIKxTi/2Msghj61y7y3NS",
      "include_colab_link": true
    },
    "kernelspec": {
      "name": "python3",
      "display_name": "Python 3"
    },
    "language_info": {
      "name": "python"
    }
  },
  "cells": [
    {
      "cell_type": "markdown",
      "metadata": {
        "id": "view-in-github",
        "colab_type": "text"
      },
      "source": [
        "<a href=\"https://colab.research.google.com/github/Rosalesmariana/Simulacion-I-/blob/main/Prod_medio.ipynb\" target=\"_parent\"><img src=\"https://colab.research.google.com/assets/colab-badge.svg\" alt=\"Open In Colab\"/></a>"
      ]
    },
    {
      "cell_type": "code",
      "source": [
        "\n",
        "from tabulate import tabulate\n",
        "\n",
        "x_m = 123\n",
        "x_n = 456\n",
        "\n",
        "# Encabezados de la tabla\n",
        "Encabezado= [\"n\", \"x_n-1\", \"x_n\", \"x_(n-1)*x(n)\", \"x_n+1\"]\n",
        "\n",
        "# almacenar las filas de la tabla\n",
        "filas= []\n",
        "\n",
        "iteration = 1\n",
        "\n",
        "while True:\n",
        "    res = x_m * x_n\n",
        "    res_str = str(res).zfill(5)\n",
        "    x_o = int(res_str[1:4])\n",
        "    filas.append([iteration, x_m, x_n, res, x_o])\n",
        "\n",
        "    # Actualizar x_0 y x_1 p\n",
        "    x_m = x_n\n",
        "    x_n = x_o\n",
        "\n",
        "    iteration += 1\n",
        "    if iteration > 50:\n",
        "        break\n",
        "\n",
        "# Imprimir la tabla\n",
        "print(tabulate(filas, headers=Encabezado, tablefmt=\"\"))"
      ],
      "metadata": {
        "colab": {
          "base_uri": "https://localhost:8080/"
        },
        "id": "8fk_Q8pE02F4",
        "outputId": "9d0f4f95-098c-4e27-f782-4d66c155e8e3"
      },
      "execution_count": 10,
      "outputs": [
        {
          "output_type": "stream",
          "name": "stdout",
          "text": [
            "  n    x_n-1    x_n    x_(n-1)*x(n)    x_n+1\n",
            "---  -------  -----  --------------  -------\n",
            "  1      123    456           56088      608\n",
            "  2      456    608          277248      772\n",
            "  3      608    772          469376      693\n",
            "  4      772    693          534996      349\n",
            "  5      693    349          241857      418\n",
            "  6      349    418          145882      458\n",
            "  7      418    458          191444      914\n",
            "  8      458    914          418612      186\n",
            "  9      914    186          170004      700\n",
            " 10      186    700          130200      302\n",
            " 11      700    302          211400      114\n",
            " 12      302    114           34428      442\n",
            " 13      114    442           50388       38\n",
            " 14      442     38           16796      679\n",
            " 15       38    679           25802      580\n",
            " 16      679    580          393820      938\n",
            " 17      580    938          544040      440\n",
            " 18      938    440          412720      127\n",
            " 19      440    127           55880      588\n",
            " 20      127    588           74676      467\n",
            " 21      588    467          274596      745\n",
            " 22      467    745          347915      479\n",
            " 23      745    479          356855      568\n",
            " 24      479    568          272072      720\n",
            " 25      568    720          408960       89\n",
            " 26      720     89           64080      408\n",
            " 27       89    408           36312      631\n",
            " 28      408    631          257448      574\n",
            " 29      631    574          362194      621\n",
            " 30      574    621          356454      564\n",
            " 31      621    564          350244      502\n",
            " 32      564    502          283128      831\n",
            " 33      502    831          417162      171\n",
            " 34      831    171          142101      421\n",
            " 35      171    421           71991      199\n",
            " 36      421    199           83779      377\n",
            " 37      199    377           75023      502\n",
            " 38      377    502          189254      892\n",
            " 39      502    892          447784      477\n",
            " 40      892    477          425484      254\n",
            " 41      477    254          121158      211\n",
            " 42      254    211           53594      359\n",
            " 43      211    359           75749      574\n",
            " 44      359    574          206066       60\n",
            " 45      574     60           34440      444\n",
            " 46       60    444           26640      664\n",
            " 47      444    664          294816      948\n",
            " 48      664    948          629472      294\n",
            " 49      948    294          278712      787\n",
            " 50      294    787          231378      313\n"
          ]
        }
      ]
    }
  ]
}