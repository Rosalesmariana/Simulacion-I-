{
  "nbformat": 4,
  "nbformat_minor": 0,
  "metadata": {
    "colab": {
      "provenance": [],
      "authorship_tag": "ABX9TyNMtbhcY43aTFRyo59NBY34",
      "include_colab_link": true
    },
    "kernelspec": {
      "name": "python3",
      "display_name": "Python 3"
    },
    "language_info": {
      "name": "python"
    }
  },
  "cells": [
    {
      "cell_type": "markdown",
      "metadata": {
        "id": "view-in-github",
        "colab_type": "text"
      },
      "source": [
        "<a href=\"https://colab.research.google.com/github/Rosalesmariana/Simulacion-I-/blob/main/Estimacion_pi.ipynb\" target=\"_parent\"><img src=\"https://colab.research.google.com/assets/colab-badge.svg\" alt=\"Open In Colab\"/></a>"
      ]
    },
    {
      "cell_type": "markdown",
      "source": [
        "**Estimación del número pi**\n",
        "\n",
        "*Solución analitica*\n",
        "\n",
        "Si consideramos la variable\n",
        "\n",
        "\n",
        "podemos calcular el valor esperado $E[x]$ y la varianza $Var[x]$. Estos cálculos nos proporcionarán una mejor comprensión de la precisión y el comportamiento de nuestra estimación de $π$ mediante el método de Montecarlo\n",
        "\n",
        "\n",
        "El valor esperado $E[x]$ de una variable binaria $x$ que toma el valor $1$ con probabilidad $p$ y el valor $0$ con probabilidad $1-p$ es simplemente $p$\n",
        "En este caso, $p$ es la probabilidad de que un punto aleatorio caiga dentro del círculo. Esta probabilidad es igual a la razón entre el área del círculo y el área del cuadrado.\n",
        "\n",
        "El area del circulo es $π r^2$\n",
        "El area del cuadrado es $4 r^2$\n",
        "\n",
        "Por lo tanto, la probabilidad $p$ es:\n",
        "\n",
        "$$p=\\frac{A_{ciculo}}{A_{cuadrado}}$$\n",
        "$$p=\\frac{π r^2}{4 r^2}= \\frac{\\pi}{4}$$\n",
        "\n",
        "La varianza de una variable binaria $x$ con probabilidad $p$ de ser $1$ y $1-p$ de ser 0 está dada por:\n",
        "\n",
        "$$Var(x)=p(1-p)$$\n",
        "\n",
        "Si sustituimos $p= \\frac{\\pi}{4}$\n",
        "\n",
        "$$Var(x)=\\frac{\\pi}{4}(1-\\frac{\\pi}{4})$$\n",
        "$$Var=\\frac{\\pi(4-\\pi)}{16}$$\n",
        "\n",
        "\n",
        "Ahora\n",
        "\n",
        "El valor esperado de $\\bar{x}$, la media de $N$ observaciones de $x$, es también $\\frac{\\pi}{4}$ debido a la linealidad del valor esperado:\n",
        "\n",
        "$E[\\bar{x}]= E[\\frac{1}{N} \\sum^{N}_{i=1} x_i ]$\n",
        "\n",
        "$E[\\bar{x}]= E[\\frac{1}{N} \\sum^{N}_{i=1} E[x_i]$\n",
        "\n",
        "$E[\\bar{x}]=\\frac{1}{N} N \\frac{\\pi}{4}$\n",
        "\n",
        "Por lo tanto la estimacion de $\\pi$ es\n",
        "\n",
        "$E[\\pi_{estimada}]= E[ 4 \\bar{x}]= 4E[\\bar{x}]= 4(\\frac{\\pi}{4}) = \\frac{\\pi}{4}$\n",
        "\n",
        "La varianza de $\\bar{x}$ es\n",
        "\n",
        "$ Var= Var(\\frac{1}{N} \\sum^{N}_{i=1} x_i )$\n",
        "\n",
        "$\\frac{1}{N^2} \\sum^{N}_{i=1} Var(x_i)$\n",
        "\n",
        "$\\frac{1}{N^2}* N *Var(x) = \\frac{1}{N} * \\frac{\\pi(4 - \\pi)}{16}$\n",
        "\n",
        "La varianza de la estimacion de $\\pi$ es\n",
        "\n",
        "$Var(\\pi_{estimada})= Var (4\\bar{x})= 4^2 Var(\\bar{x})=  \\frac{\\pi(4 - \\pi)}{N}$\n",
        "\n",
        "La varianza de la estimación disminuye a medida que aumentamos el número de puntos $N$, lo que implica que la precisión de la estimación mejora con un mayor número de puntos.\n",
        "\n",
        "**Solucion por simulación**"
      ],
      "metadata": {
        "id": "Hb5KubADiez_"
      }
    },
    {
      "cell_type": "code",
      "execution_count": 2,
      "metadata": {
        "colab": {
          "base_uri": "https://localhost:8080/",
          "height": 430
        },
        "id": "QO8ntmnorw9c",
        "outputId": "4cf2aa74-1da0-489f-c1f0-cd90c9ce217b"
      },
      "outputs": [
        {
          "output_type": "display_data",
          "data": {
            "text/plain": [
              "<Figure size 640x480 with 1 Axes>"
            ],
            "image/png": "[encoded data removed]"
          },
          "metadata": {}
        }
      ],
      "source": [
        "# Grafica para visualizar un previo del experimento\n",
        "import numpy as np\n",
        "import random as rnd\n",
        "import matplotlib.pyplot as plt\n",
        "\n",
        "x=np.linspace(0,1,100)\n",
        "u_1=rnd.random()\n",
        "u_2=rnd.random()\n",
        "\n",
        "plt.plot(x, np.sqrt(1-x**2))\n",
        "plt.scatter(u_1, u_2, color=\"red\")\n",
        "plt.show()"
      ]
    },
    {
      "cell_type": "code",
      "source": [
        "def estimacion_pi(muestras): #Funcion que generara\n",
        "    exitos = 0\n",
        "\n",
        "    for i in range(muestras):\n",
        "     u_1= rnd.uniform (0,1) #Generamos los numeros aleatorios\n",
        "     u_2= rnd.uniform (0,1)\n",
        "\n",
        "     if u_2<= np.sqrt(1-(u_1 **2 )): #Con la condicional indicamos si cae dentro del circulo\n",
        "      exitos +=1 #Se considera como un exito\n",
        "\n",
        "      valor_estimado= 4*(exitos/muestras) #Valor estimado apartir de el numero de exitos y el tamaño de la muestra\n",
        "\n",
        "    return valor_estimado\n",
        "\n",
        "muestras=1000\n",
        "valor_estimado=estimacion_pi(muestras)\n",
        "print(valor_estimado)"
      ],
      "metadata": {
        "colab": {
          "base_uri": "https://localhost:8080/"
        },
        "id": "BrjtPn6MsOR2",
        "outputId": "1e24e1c4-a49d-410c-de01-9f8384684462"
      },
      "execution_count": 11,
      "outputs": [
        {
          "output_type": "stream",
          "name": "stdout",
          "text": [
            "3.164\n"
          ]
        }
      ]
    },
    {
      "cell_type": "code",
      "source": [
        "import matplotlib.pyplot as plt\n",
        "\n",
        "def prob_inter(n): #Funcion para mostrar el estado transitorio y el estado estacionario\n",
        "    prob = []\n",
        "    inter = 0\n",
        "    for i in range(n):\n",
        "        inter += estimacion_pi(muestras)\n",
        "        prob.append(inter/(i+1))\n",
        "    return prob\n",
        "\n",
        "x=prob_inter(1000)\n",
        "plt.plot(x) #Podemos sugerir el valor para N a traves de la visualizacion en la grafica"
      ],
      "metadata": {
        "colab": {
          "base_uri": "https://localhost:8080/",
          "height": 448
        },
        "id": "rPNCji3c2PVY",
        "outputId": "54097495-6df9-4fdb-f605-4a284039c860"
      },
      "execution_count": 14,
      "outputs": [
        {
          "output_type": "execute_result",
          "data": {
            "text/plain": [
              "[<matplotlib.lines.Line2D at 0x7c46fc209210>]"
            ]
          },
          "metadata": {},
          "execution_count": 14
        },
        {
          "output_type": "display_data",
          "data": {
            "text/plain": [
              "<Figure size 640x480 with 1 Axes>"
            ],
            "image/png": "[encoded data removed]"
          },
          "metadata": {}
        }
      ]
    },
    {
      "cell_type": "code",
      "source": [
        "def prob_inter(n):\n",
        "    prob = []\n",
        "    inter = 0\n",
        "    for i in range(n):\n",
        "        inter += estimacion_pi(muestras)\n",
        "        prob.append(inter/(i+1))\n",
        "    return prob [-1] #Si tomamos el ultimo valor\n",
        "\n",
        "x=prob_inter(1000)\n",
        "print(x)"
      ],
      "metadata": {
        "colab": {
          "base_uri": "https://localhost:8080/"
        },
        "id": "4y3C30VOoG34",
        "outputId": "434309a3-af57-4143-e7d1-8f256289c383"
      },
      "execution_count": null,
      "outputs": [
        {
          "output_type": "stream",
          "name": "stdout",
          "text": [
            "3.1423119999999956\n"
          ]
        }
      ]
    },
    {
      "cell_type": "code",
      "source": [
        "def simulación(M):\n",
        "    r=[]\n",
        "    for i in range (M):\n",
        "      R=estimacion_pi(500)\n",
        "      r.append(R)\n",
        "    return r"
      ],
      "metadata": {
        "id": "khMeiE8ppf0j"
      },
      "execution_count": null,
      "outputs": []
    },
    {
      "cell_type": "code",
      "source": [
        "S=simulación(1000)\n",
        "plt.hist(S) #Histograma de las muestras"
      ],
      "metadata": {
        "colab": {
          "base_uri": "https://localhost:8080/",
          "height": 378
        },
        "id": "JeJlbGuOqDfl",
        "outputId": "ceb0c42b-8625-4080-8d29-4c1e0a28f37d"
      },
      "execution_count": null,
      "outputs": [
        {
          "output_type": "execute_result",
          "data": {
            "text/plain": [
              "(array([  7.,  38.,  91., 177., 244., 243., 128.,  56.,  12.,   4.]),\n",
              " array([2.92 , 2.968, 3.016, 3.064, 3.112, 3.16 , 3.208, 3.256, 3.304,\n",
              "        3.352, 3.4  ]),\n",
              " <BarContainer object of 10 artists>)"
            ]
          },
          "metadata": {},
          "execution_count": 23
        },
        {
          "output_type": "display_data",
          "data": {
            "text/plain": [
              "<Figure size 640x480 with 1 Axes>"
            ],
            "image/png": "[encoded data removed]"
          },
          "metadata": {}
        }
      ]
    },
    {
      "cell_type": "code",
      "source": [
        "media=np.mean(x)\n",
        "media"
      ],
      "metadata": {
        "colab": {
          "base_uri": "https://localhost:8080/"
        },
        "id": "kDRpeHg5k4tQ",
        "outputId": "905304b7-7591-49ca-dbf5-0e3f7818d3bd"
      },
      "execution_count": null,
      "outputs": [
        {
          "output_type": "execute_result",
          "data": {
            "text/plain": [
              "3.1396119064002916"
            ]
          },
          "metadata": {},
          "execution_count": 12
        }
      ]
    }
  ]
}